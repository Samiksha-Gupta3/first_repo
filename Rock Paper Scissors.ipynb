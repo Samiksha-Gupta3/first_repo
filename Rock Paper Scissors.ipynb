{
 "cells": [
  {
   "cell_type": "code",
   "execution_count": 6,
   "metadata": {},
   "outputs": [
    {
     "name": "stdout",
     "output_type": "stream",
     "text": [
      "Rock, Paper, Scissors?Rock\n",
      "Tie!\n",
      "If you want to quit type Q and if you want to continue type C:C\n",
      "Rock, Paper, Scissors?Paper\n",
      "You win! Paper covers Rock\n",
      "If you want to quit type Q and if you want to continue type C:C\n",
      "Rock, Paper, Scissors?rt\n",
      "That's not a valid play. Check your spelling!\n",
      "If you want to quit type Q and if you want to continue type C:d\n",
      "This is not a valid choice\n",
      "Rock, Paper, Scissors?Rock\n",
      "You win! Rock smashes Scissors\n",
      "If you want to quit type Q and if you want to continue type C:Q\n"
     ]
    }
   ],
   "source": [
    "from random import randint\n",
    "t = [\"Rock\", \"Paper\", \"Scissors\"]\n",
    "computer = t[randint(0,2)]\n",
    "player = False\n",
    "while player == False:\n",
    "    player = input(\"Rock, Paper, Scissors?\")\n",
    "    if player == computer:\n",
    "        print(\"Tie!\")\n",
    "    elif player == \"Rock\":\n",
    "        if computer == \"Paper\":\n",
    "            print(\"You lose!\", computer, \"covers\", player)\n",
    "        else:\n",
    "            print(\"You win!\", player, \"smashes\", computer)\n",
    "    elif player == \"Paper\":\n",
    "        if computer == \"Scissors\":\n",
    "            print(\"You lose!\", computer, \"cut\", player)\n",
    "        else:\n",
    "            print(\"You win!\", player, \"covers\", computer)\n",
    "    elif player == \"Scissors\":\n",
    "        if computer == \"Rock\":\n",
    "            print(\"You lose...\", computer, \"smashes\", player)\n",
    "        else:\n",
    "            print(\"You win!\", player, \"cut\", computer)\n",
    "    else:\n",
    "        print(\"That's not a valid play. Check your spelling!\")\n",
    "    status = input('If you want to quit type Q and if you want to continue type C:')\n",
    "    if status == 'Q':\n",
    "        player = True\n",
    "    elif status == 'C':\n",
    "        player = False\n",
    "    else:\n",
    "        print('This is not a valid choice')\n",
    "        player = False\n",
    "    computer = t[randint(0,2)]"
   ]
  },
  {
   "cell_type": "code",
   "execution_count": null,
   "metadata": {},
   "outputs": [],
   "source": []
  }
 ],
 "metadata": {
  "kernelspec": {
   "display_name": "Python 3",
   "language": "python",
   "name": "python3"
  },
  "language_info": {
   "codemirror_mode": {
    "name": "ipython",
    "version": 3
   },
   "file_extension": ".py",
   "mimetype": "text/x-python",
   "name": "python",
   "nbconvert_exporter": "python",
   "pygments_lexer": "ipython3",
   "version": "3.8.5"
  }
 },
 "nbformat": 4,
 "nbformat_minor": 4
}
